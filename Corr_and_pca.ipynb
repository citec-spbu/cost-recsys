{
 "cells": [
  {
   "cell_type": "code",
   "execution_count": null,
   "metadata": {},
   "outputs": [],
   "source": [
    "import pandas as pd\n",
    "import numpy as np\n",
    "import seaborn as sns\n",
    "import matplotlib.pyplot as plt\n",
    "from sklearn.decomposition import PCA\n",
    "from sklearn.preprocessing import StandardScaler\n",
    "\n",
    "\n",
    "df = pd.read_csv(\"olist_order_items_dataset.csv\")  \n",
    "\n",
    "\n",
    "df_numeric = df.select_dtypes(include=[np.number])\n",
    "\n",
    "# Заполняем пропущенные значения средними значениями столбцов\n",
    "df_numeric_filled = df_numeric.fillna(df_numeric.mean())\n",
    "\n",
    "\n",
    "# Строим корреляционную матрицу\n",
    "plt.figure(figsize=(12, 8))\n",
    "sns.heatmap(df_numeric_filled.corr(), annot=False, cmap=\"coolwarm\", fmt=\".2f\", linewidths=0.5)\n",
    "plt.title(\"Тепловая карта корреляций между фичами\")\n",
    "plt.show()\n",
    "\n",
    "\n",
    "scaler = StandardScaler()\n",
    "df_scaled = scaler.fit_transform(df_numeric_filled)\n",
    "\n",
    "\n",
    "print(f\"Количество фичей до PCA: {df_numeric.shape[1]}\")\n",
    "\n",
    "\n",
    "pca = PCA(n_components=0.95)  \n",
    "df_pca = pca.fit_transform(df_scaled)\n",
    "\n",
    "\n",
    "print(f\"Количество фичей после PCA: {df_pca.shape[1]}\")\n",
    "\n",
    "\n",
    "import matplotlib.pyplot as plt\n",
    "\n",
    "plt.figure(figsize=(8, 5))\n",
    "plt.plot(np.cumsum(pca.explained_variance_ratio_), marker='o', linestyle='--')\n",
    "plt.xlabel(\"Количество главных компонент\")\n",
    "plt.ylabel(\"Доля сохраненной инфы\") \n",
    "plt.title(\"График PCA\")\n",
    "plt.grid()\n",
    "plt.show()\n",
    "print(df_numeric.corr())"
   ]
  }
 ],
 "metadata": {
  "kernelspec": {
   "display_name": "Python 3",
   "language": "python",
   "name": "python3"
  },
  "language_info": {
   "codemirror_mode": {
    "name": "ipython",
    "version": 3
   },
   "file_extension": ".py",
   "mimetype": "text/x-python",
   "name": "python",
   "nbconvert_exporter": "python",
   "pygments_lexer": "ipython3",
   "version": "3.10.8"
  }
 },
 "nbformat": 4,
 "nbformat_minor": 2
}
