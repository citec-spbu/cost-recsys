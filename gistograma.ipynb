{
 "cells": [
  {
   "cell_type": "code",
   "execution_count": null,
   "metadata": {},
   "outputs": [],
   "source": [
    "import json\n",
    "import matplotlib.pyplot as plt\n",
    "\n",
    "with open(\"C:/Users/MSI-PC/Desktop/example_product_json.json\", \"r\", encoding=\"utf-8\") as file:\n",
    "    data = json.load(file)\n",
    "\n",
    "# Время нахождения на товаре и добавление в корзину\n",
    "def collect_cart_interaction_data(data):\n",
    "    time_spent_cart = []\n",
    "    \n",
    "    for item in data.get(\"layout\", []):\n",
    "        time_spent = item.get(\"timeSpent\", 0)\n",
    "        component = item.get(\"component\", \"Unknown\")\n",
    "        \n",
    "        if component == \"cartButton\":\n",
    "            time_spent_cart.append(time_spent)\n",
    "    \n",
    "    return time_spent_cart\n",
    "\n",
    "time_spent_cart = collect_cart_interaction_data(data)\n",
    "\n",
    "plt.figure(figsize=(8, 5))\n",
    "plt.hist(time_spent_cart, bins=10, color='red', alpha=0.7)\n",
    "plt.xlabel(\"Время взаимодействия (сек)\")\n",
    "plt.ylabel(\"Количество добавлений в корзину\")\n",
    "plt.title(\"Время взаимодействия и добавление в корзину\")\n",
    "plt.grid(True)\n",
    "plt.show()\n"
   ]
  }
 ],
 "metadata": {
  "kernelspec": {
   "display_name": "Python 3",
   "language": "python",
   "name": "python3"
  },
  "language_info": {
   "codemirror_mode": {
    "name": "ipython",
    "version": 3
   },
   "file_extension": ".py",
   "mimetype": "text/x-python",
   "name": "python",
   "nbconvert_exporter": "python",
   "pygments_lexer": "ipython3",
   "version": "3.10.8"
  }
 },
 "nbformat": 4,
 "nbformat_minor": 2
}
